{
 "cells": [
  {
   "cell_type": "markdown",
   "metadata": {},
   "source": [
    "# Задание1\n",
    "### Вы получили данные о магазине и продуктах в этих магазинах в виде словаря dict(). Необходимо создать обратный словарь, содержащий название товара и наименования магазинов, в которых этот товар представлен. Написать функцию принимающую и возвращающую словарь."
   ]
  },
  {
   "cell_type": "code",
   "execution_count": null,
   "metadata": {},
   "outputs": [],
   "source": [
    "# stores = {'rozetka': ['iphone', 'macbook', 'ipad'],'fua': ['macbook', 'ipad'],'citrus': ['iphone', 'macbook', 'earpods'],'allo': ['earpods', 'iphone']}\n",
    "# output : {'earpods': ['citrus', 'allo'],\n",
    "#  'ipad': ['rozetka', 'fua'],\n",
    "#  'iphone': ['rozetka', 'citrus', 'allo'],\n",
    "#  'macbook': ['rozetka', 'fua', 'citrus']}\n"
   ]
  },
  {
   "cell_type": "code",
   "execution_count": 79,
   "metadata": {
    "scrolled": true
   },
   "outputs": [],
   "source": [
    "def products_dict_rvsd(stores):\n",
    "    if not stores:\n",
    "        return None\n",
    "    products = {}\n",
    "    for i in stores:\n",
    "        for j in stores[i]:\n",
    "            if j not in products:\n",
    "                products[j]=[]\n",
    "            products[j].append(i)\n",
    "    return (products)\n",
    "# products_dict_rvsd(stores)"
   ]
  },
  {
   "cell_type": "markdown",
   "metadata": {},
   "source": [
    "# Задание 2\n",
    "### text = ”””Однажды весною, в час небывало жаркого заката, в Москве, на Патриарших прудах, появились два гражданина. Первый из них, одетый в летнюю серенькую пару, был маленького роста, упитан, лыс, свою приличную шляпу пирожком нес в руке, а на хорошо выбритом лице его помещались сверхъестественных размеров очки в черной роговой оправе. Второй – плечистый, рыжеватый, вихрастый молодой человек в заломленной на затылок клетчатой кепке – был в ковбойке, жеваных белых брюках и в черных тапочках. Первый был не кто иной, как Михаил Александрович Берлиоз, председатель правления одной из крупнейших московских литературных ассоциаций, сокращенно именуемой МАССОЛИТ, и редактор толстого художественного журнала, а молодой спутник его – поэт Иван Николаевич Понырев, пишущий под псевдонимом Бездомный. Попав в тень чуть зеленеющих лип, писатели первым долгом бросились к пестро раскрашенной будочке с надписью «Пиво и воды». Да, следует отметить первую странность этого страшного майского вечера. Не только у будочки, но и во всей аллее, параллельной Малой Бронной улице, не оказалось ни одного человека. В тот час, когда уж, кажется, и сил не было дышать, когда солнце, раскалив Москву, в сухом тумане валилось куда-то за Садовое кольцо, – никто не пришел под липы, никто не сел на скамейку, пуста была аллея.”””.lower()\n",
    "\n",
    "### Написать функцию, принимающую строку и возвращающую словарь dict() содержащий все символы в тексте и количество их вхождений (сколько раз символ присутствует в тексте)"
   ]
  },
  {
   "cell_type": "code",
   "execution_count": 19,
   "metadata": {},
   "outputs": [],
   "source": [
    "text = '''Однажды весною, в час небывало жаркого заката, в Москве, на Патриарших прудах, появились два гражданина. Первый из них, одетый в летнюю серенькую пару, был маленького роста, упитан, лыс, свою приличную шляпу пирожком нес в руке, а на хорошо выбритом лице его помещались сверхъестественных размеров очки в черной роговой оправе. Второй – плечистый, рыжеватый, вихрастый молодой человек в заломленной на затылок клетчатой кепке – был в ковбойке, жеваных белых брюках и в черных тапочках. Первый был не кто иной, как Михаил Александрович Берлиоз, председатель правления одной из крупнейших московских литературных ассоциаций, сокращенно именуемой МАССОЛИТ, и редактор толстого художественного журнала, а молодой спутник его – поэт Иван Николаевич Понырев, пишущий под псевдонимом Бездомный. Попав в тень чуть зеленеющих лип, писатели первым долгом бросились к пестро раскрашенной будочке с надписью «Пиво и воды». Да, следует отметить первую странность этого страшного майского вечера. Не только у будочки, но и во всей аллее, параллельной Малой Бронной улице, не оказалось ни одного человека. В тот час, когда уж, кажется, и сил не было дышать, когда солнце, раскалив Москву, в сухом тумане валилось куда-то за Садовое кольцо, – никто не пришел под липы, никто не сел на скамейку, пуста была аллея'''.lower()"
   ]
  },
  {
   "cell_type": "code",
   "execution_count": 77,
   "metadata": {
    "scrolled": true
   },
   "outputs": [],
   "source": [
    "def symb_counter(text):\n",
    "    counter = {}\n",
    "    for i in text:\n",
    "        if i not in counter:\n",
    "            counter[i]=0\n",
    "        counter[i] += 1\n",
    "    return counter\n",
    "# symb_counter(text)        "
   ]
  },
  {
   "cell_type": "code",
   "execution_count": 76,
   "metadata": {
    "scrolled": false
   },
   "outputs": [],
   "source": [
    "\n",
    "def probab_next_letter(text):\n",
    "    counter = {}\n",
    "    for i in range(1,(len(text))):\n",
    "        if text[i-1] not in counter:\n",
    "            counter[text[i-1]]={}\n",
    "        if text[i] not in counter[text[i-1]]:\n",
    "            counter[text[i-1]][text[i]] = 0\n",
    "        counter[text[i-1]][text[i]] += 1\n",
    "    for i in range(1,(len(text))):\n",
    "        if counter[text[i-1]] == {}:\n",
    "            counter[text[i-1]] = {\".\": 1}\n",
    "#     print (counter)\n",
    "\n",
    "    return counter"
   ]
  },
  {
   "cell_type": "markdown",
   "metadata": {},
   "source": [
    "# Задание 3\n",
    "### На основе данного текста построить генератор текста длиной в сто символов, принимающий символ и возвращающий следующий, как функцию от предыдущего. Для этого нужно изучить условное распределение, как часто за одним символом следует другой.\n",
    "\n",
    "\n",
    "### : gen_text(‘ц’)  \n",
    "###  {’ц’: {‘e’: 3}, {‘и’: 2}, {‘о’: 1} } > генерируем “е” с вероятностью ½,\n",
    "### “и” c вероятностью ⅓ и “о” с вероятностью ⅙.\n",
    "### output: “цодой пою лодах ” и т.д.\n",
    "### p.s. import random + если для символа нет следующего, ставим “.” и продолжаем"
   ]
  },
  {
   "cell_type": "code",
   "execution_count": null,
   "metadata": {},
   "outputs": [],
   "source": [
    "probabilities = probab_next_letter(text)"
   ]
  },
  {
   "cell_type": "code",
   "execution_count": 33,
   "metadata": {},
   "outputs": [],
   "source": [
    "import random "
   ]
  },
  {
   "cell_type": "markdown",
   "metadata": {},
   "source": [
    "###### 'ц': {'е': 3, 'и': 2, 'о': 1}, 'щ': {'а': 1, 'е': 1, 'и': 2},"
   ]
  },
  {
   "cell_type": "code",
   "execution_count": 100,
   "metadata": {},
   "outputs": [],
   "source": [
    "def next_letter_generator(letter, probabilities: dict):\n",
    "    \"\"\"\n",
    "    На основе вводного символа и словаря с вероятностью (количеством) \n",
    "    следующих символов генерирует следующий символ \n",
    "    \"\"\"\n",
    "    choise_dict = []\n",
    "    for next_letter in probabilities[letter]:\n",
    "        choise_dict+=([next_letter] * probabilities[letter][next_letter] )\n",
    "    return random.choice(choise_dict)\n",
    "# next_letter_generator(\"ц\", probabilities)"
   ]
  },
  {
   "cell_type": "code",
   "execution_count": 82,
   "metadata": {},
   "outputs": [
    {
     "data": {
      "text/plain": [
       "'цишл домлиа ращеленелиских чилылоликв те вдате преза и прх тодаленних пилилишитыстепрогдсарогдо брог'"
      ]
     },
     "execution_count": 82,
     "metadata": {},
     "output_type": "execute_result"
    }
   ],
   "source": [
    "def gen_text(letter):\n",
    "    \"\"\"\n",
    "    генерирует текст длинной 100 символов на основании генератора\n",
    "    следующего символа с помощью функции next_letter_generator.\n",
    "    Необходимо ввести первый символ.\n",
    "    \"\"\"\n",
    "    result = \"\" \n",
    "    for _ in range(100):\n",
    "        result += letter\n",
    "        letter = next_letter_generator(letter, probabilities)\n",
    "    return result\n",
    "    \n",
    "# generator(\"ц\")"
   ]
  },
  {
   "cell_type": "code",
   "execution_count": null,
   "metadata": {},
   "outputs": [],
   "source": []
  }
 ],
 "metadata": {
  "kernelspec": {
   "display_name": "Python 3",
   "language": "python",
   "name": "python3"
  },
  "language_info": {
   "codemirror_mode": {
    "name": "ipython",
    "version": 3
   },
   "file_extension": ".py",
   "mimetype": "text/x-python",
   "name": "python",
   "nbconvert_exporter": "python",
   "pygments_lexer": "ipython3",
   "version": "3.6.7"
  }
 },
 "nbformat": 4,
 "nbformat_minor": 2
}
